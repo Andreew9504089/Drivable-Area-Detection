{
 "cells": [
  {
   "cell_type": "code",
   "execution_count": 3,
   "id": "71ba5535",
   "metadata": {},
   "outputs": [],
   "source": [
    "import tensorflow_datasets as tfds\n",
    "import tensorflow as tf2\n",
    "\n",
    "def class_map_road(seg):\n",
    "    # map class 0=anything, 1=road\n",
    "    return tf2.where(seg == 7, [0, 1.0], [1.0, 0])\n",
    "\n",
    "\n",
    "def cityscapes_prep(output_shape, input_shape=(512,256,3), class_map_func=None, float_range=True):\n",
    "    def prep_map(sample):\n",
    "        img = sample['image_left']\n",
    "        seg = sample['segmentation_label']\n",
    "\n",
    "        if float_range:\n",
    "            img /= 255\n",
    "\n",
    "        img = tf2.image.resize(img, input_shape[0:2])\n",
    "        seg = tf2.image.resize(seg, output_shape[0:2])\n",
    "        \n",
    "        if callable(class_map_func):\n",
    "            seg = class_map_func(seg)\n",
    "        else:\n",
    "            seg = tf2.one_hot(tf.cast(seg, tf.int32), output_shape[-1], axis=2)\n",
    "            seg = tf2.cast(seg, tf.float32)\n",
    "            seg = tf2.squeeze(seg)\n",
    "            #seg = tf.keras.utils.to_categorical(seg, num_classes=output_shape[-1])\n",
    "\n",
    "        return img, seg\n",
    "\n",
    "    return prep_map\n",
    "\n"
   ]
  },
  {
   "cell_type": "code",
   "execution_count": 4,
   "id": "02f6b01a",
   "metadata": {},
   "outputs": [],
   "source": [
    "INPUT_SHAPE = [(256,512,3),(128, 256, 3)]\n",
    "NUM_CLASSES = 2\n",
    "SCALE = 2\n",
    "OUTPUT_SHAPE = [(256,512,2),(128,256,2)]\n",
    "\n",
    "cityscapes = tfds.load('cityscapes/semantic_segmentation',data_dir=\"E:\\EE\\project\\FPGA\\cityscapes\",download=False)\n",
    "test = cityscapes['validation'].map(cityscapes_prep(OUTPUT_SHAPE[1], INPUT_SHAPE[1], class_map_road, float_range=False))"
   ]
  },
  {
   "cell_type": "code",
   "execution_count": 5,
   "id": "1c0b20a2",
   "metadata": {},
   "outputs": [
    {
     "ename": "UnicodeDecodeError",
     "evalue": "'utf-8' codec can't decode byte 0xc0 in position 98: invalid start byte",
     "output_type": "error",
     "traceback": [
      "\u001b[1;31m---------------------------------------------------------------------------\u001b[0m",
      "\u001b[1;31mUnicodeDecodeError\u001b[0m                        Traceback (most recent call last)",
      "\u001b[1;32m<ipython-input-5-41dae59290a4>\u001b[0m in \u001b[0;36m<module>\u001b[1;34m\u001b[0m\n\u001b[0;32m     11\u001b[0m     \u001b[0mod_graph_def\u001b[0m \u001b[1;33m=\u001b[0m \u001b[0mtf\u001b[0m\u001b[1;33m.\u001b[0m\u001b[0mGraphDef\u001b[0m\u001b[1;33m(\u001b[0m\u001b[1;33m)\u001b[0m\u001b[1;33m\u001b[0m\u001b[1;33m\u001b[0m\u001b[0m\n\u001b[0;32m     12\u001b[0m     \u001b[1;32mwith\u001b[0m \u001b[0mtf\u001b[0m\u001b[1;33m.\u001b[0m\u001b[0mgfile\u001b[0m\u001b[1;33m.\u001b[0m\u001b[0mGFile\u001b[0m\u001b[1;33m(\u001b[0m\u001b[0mPATH_TO_CKPT\u001b[0m\u001b[1;33m,\u001b[0m \u001b[1;34m'rb'\u001b[0m\u001b[1;33m)\u001b[0m \u001b[1;32mas\u001b[0m \u001b[0mfid\u001b[0m\u001b[1;33m:\u001b[0m      \u001b[1;31m#加载模型\u001b[0m\u001b[1;33m\u001b[0m\u001b[1;33m\u001b[0m\u001b[0m\n\u001b[1;32m---> 13\u001b[1;33m         \u001b[0mserialized_graph\u001b[0m \u001b[1;33m=\u001b[0m \u001b[0mfid\u001b[0m\u001b[1;33m.\u001b[0m\u001b[0mread\u001b[0m\u001b[1;33m(\u001b[0m\u001b[1;33m)\u001b[0m\u001b[1;33m\u001b[0m\u001b[1;33m\u001b[0m\u001b[0m\n\u001b[0m\u001b[0;32m     14\u001b[0m         \u001b[0mod_graph_def\u001b[0m\u001b[1;33m.\u001b[0m\u001b[0mParseFromString\u001b[0m\u001b[1;33m(\u001b[0m\u001b[0mserialized_graph\u001b[0m\u001b[1;33m)\u001b[0m\u001b[1;33m\u001b[0m\u001b[1;33m\u001b[0m\u001b[0m\n\u001b[0;32m     15\u001b[0m         \u001b[0mtf\u001b[0m\u001b[1;33m.\u001b[0m\u001b[0mimport_graph_def\u001b[0m\u001b[1;33m(\u001b[0m\u001b[0mod_graph_def\u001b[0m\u001b[1;33m,\u001b[0m \u001b[0mname\u001b[0m\u001b[1;33m=\u001b[0m\u001b[1;34m''\u001b[0m\u001b[1;33m)\u001b[0m\u001b[1;33m\u001b[0m\u001b[1;33m\u001b[0m\u001b[0m\n",
      "\u001b[1;32m~\\anaconda3\\lib\\site-packages\\tensorflow\\python\\lib\\io\\file_io.py\u001b[0m in \u001b[0;36mread\u001b[1;34m(self, n)\u001b[0m\n\u001b[0;32m    116\u001b[0m       \u001b[0mstring\u001b[0m \u001b[1;32mif\u001b[0m \u001b[1;32min\u001b[0m \u001b[0mstring\u001b[0m \u001b[1;33m(\u001b[0m\u001b[0mregular\u001b[0m\u001b[1;33m)\u001b[0m \u001b[0mmode\u001b[0m\u001b[1;33m.\u001b[0m\u001b[1;33m\u001b[0m\u001b[1;33m\u001b[0m\u001b[0m\n\u001b[0;32m    117\u001b[0m     \"\"\"\n\u001b[1;32m--> 118\u001b[1;33m     \u001b[0mself\u001b[0m\u001b[1;33m.\u001b[0m\u001b[0m_preread_check\u001b[0m\u001b[1;33m(\u001b[0m\u001b[1;33m)\u001b[0m\u001b[1;33m\u001b[0m\u001b[1;33m\u001b[0m\u001b[0m\n\u001b[0m\u001b[0;32m    119\u001b[0m     \u001b[1;32mif\u001b[0m \u001b[0mn\u001b[0m \u001b[1;33m==\u001b[0m \u001b[1;33m-\u001b[0m\u001b[1;36m1\u001b[0m\u001b[1;33m:\u001b[0m\u001b[1;33m\u001b[0m\u001b[1;33m\u001b[0m\u001b[0m\n\u001b[0;32m    120\u001b[0m       \u001b[0mlength\u001b[0m \u001b[1;33m=\u001b[0m \u001b[0mself\u001b[0m\u001b[1;33m.\u001b[0m\u001b[0msize\u001b[0m\u001b[1;33m(\u001b[0m\u001b[1;33m)\u001b[0m \u001b[1;33m-\u001b[0m \u001b[0mself\u001b[0m\u001b[1;33m.\u001b[0m\u001b[0mtell\u001b[0m\u001b[1;33m(\u001b[0m\u001b[1;33m)\u001b[0m\u001b[1;33m\u001b[0m\u001b[1;33m\u001b[0m\u001b[0m\n",
      "\u001b[1;32m~\\anaconda3\\lib\\site-packages\\tensorflow\\python\\lib\\io\\file_io.py\u001b[0m in \u001b[0;36m_preread_check\u001b[1;34m(self)\u001b[0m\n\u001b[0;32m     78\u001b[0m         raise errors.PermissionDeniedError(None, None,\n\u001b[0;32m     79\u001b[0m                                            \"File isn't open for reading\")\n\u001b[1;32m---> 80\u001b[1;33m       self._read_buf = _pywrap_file_io.BufferedInputStream(\n\u001b[0m\u001b[0;32m     81\u001b[0m           compat.path_to_str(self.__name), 1024 * 512)\n\u001b[0;32m     82\u001b[0m \u001b[1;33m\u001b[0m\u001b[0m\n",
      "\u001b[1;31mUnicodeDecodeError\u001b[0m: 'utf-8' codec can't decode byte 0xc0 in position 98: invalid start byte"
     ]
    }
   ],
   "source": [
    "import tensorflow.compat.v1 as tf\n",
    "import cv2\n",
    "import os\n",
    "os.environ['CUDA_VISIBLE_DEVICES'] = '-1'\n",
    "PATH_TO_CKPT = 'E:\\EE\\project\\FPGA\\tf_model_frozen_no-optimization.pb'\n",
    "size = (256,128)\n",
    "\n",
    "\n",
    "detection_graph = tf.Graph()\n",
    "with detection_graph.as_default():\n",
    "    od_graph_def = tf.GraphDef()\n",
    "    with tf.gfile.GFile(PATH_TO_CKPT, 'rb') as fid:      #加载模型\n",
    "        serialized_graph = fid.read()\n",
    "        od_graph_def.ParseFromString(serialized_graph)\n",
    "        tf.import_graph_def(od_graph_def, name='')\n",
    "\n",
    "with detection_graph.as_default():  \n",
    "    with tf.Session(graph=detection_graph) as sess: \n",
    "        image_tensor = detection_graph.get_tensor_by_name('input_13:0')     #获取输入图片的tensor\n",
    "        prediction = detection_graph.get_tensor_by_name('up_sampling2d_5/ResizeNearestNeighbor:0')  #输出prediction的tensor\n",
    "        \n",
    "        for sample in test:\n",
    "            miou = []\n",
    "            total_fps = []\n",
    "            cnt += 1\n",
    "            gt = sample[1]\n",
    "            src = sample[0]\n",
    "                \n",
    "            gt = tf.image.resize(gt, size,method=ResizeMethod.NEAREST)\n",
    "            gt = tf.argmax(gt, axis=-1)\n",
    "            gt = gt[..., tf.newaxis]\n",
    "            \n",
    "            src = cv2.cvtColor(src, cv2.COLOR_BGR2RGB)\n",
    "            src = cv2.resize(src,(256,128),interpolation=cv2.INTER_CUBIC)\n",
    "            image = src/255\n",
    "            data = np.expand_dims(image, axis=0)\n",
    "            pred = sess.run(prediction,feed_dict={image_tensor: data})\n",
    "            seg = tf.argmax(pred[0], axis=-1)\n",
    "            seg=seg.eval(session=tf.Session())  \n",
    "            m = tf.keras.metrics.MeanIoU(num_classes=2)\n",
    "            m.update_state(seg, gt)\n",
    "            miou.append(m.result().numpy())\n",
    "            total_fps.append(fps)\n",
    "        mean_MIoU = np.round(stat.mean(miou)*100,3)\n",
    "        mean_FPS = np.round(stat.mean(total_fps),3)\n",
    "        print(mean_MIoU)\n",
    "        print(mean_FPS)"
   ]
  },
  {
   "cell_type": "code",
   "execution_count": null,
   "id": "44a0af54",
   "metadata": {},
   "outputs": [],
   "source": []
  }
 ],
 "metadata": {
  "kernelspec": {
   "display_name": "Python 3",
   "language": "python",
   "name": "python3"
  },
  "language_info": {
   "codemirror_mode": {
    "name": "ipython",
    "version": 3
   },
   "file_extension": ".py",
   "mimetype": "text/x-python",
   "name": "python",
   "nbconvert_exporter": "python",
   "pygments_lexer": "ipython3",
   "version": "3.6.13"
  }
 },
 "nbformat": 4,
 "nbformat_minor": 5
}
